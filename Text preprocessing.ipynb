{
  "nbformat": 4,
  "nbformat_minor": 0,
  "metadata": {
    "colab": {
      "provenance": []
    },
    "kernelspec": {
      "name": "python3",
      "display_name": "Python 3"
    },
    "language_info": {
      "name": "python"
    }
  },
  "cells": [
    {
      "cell_type": "code",
      "execution_count": 1,
      "metadata": {
        "id": "ANKbeiiRzBTP"
      },
      "outputs": [],
      "source": [
        "import re"
      ]
    },
    {
      "cell_type": "code",
      "source": [
        "file_input = 'prazd_36.xml' #переменная для исходного файла в формате .txt"
      ],
      "metadata": {
        "id": "Q5uvwfKX5X4w"
      },
      "execution_count": 6,
      "outputs": []
    },
    {
      "cell_type": "code",
      "source": [
        "file_output = 'file.txt' #переменная для выходного файла в формате .txt"
      ],
      "metadata": {
        "id": "dgLEUWNm5mrx"
      },
      "execution_count": 7,
      "outputs": []
    },
    {
      "cell_type": "code",
      "source": [
        "def data_cleaning(data): #type(data) - str\n",
        "  return re.sub(r'&lt; */? *\\w+ */?\\ *?gt;|\\<(\\?|\\/?)>|[\\n{*}]|[/{*}]|[/{*}]', '', data)"
      ],
      "metadata": {
        "id": "iNPugscSzGci"
      },
      "execution_count": 4,
      "outputs": []
    },
    {
      "cell_type": "code",
      "source": [
        "with open (file_input, 'r', encoding='utf-8') as open_file:\n",
        "  data = open_file.read()\n",
        "  clean_data = data_cleaning(data)"
      ],
      "metadata": {
        "id": "-1XzSis15q4Z"
      },
      "execution_count": 8,
      "outputs": []
    },
    {
      "cell_type": "code",
      "source": [
        "with open (file_output, 'r', encoding='utf-8') as fp:\n",
        "  fp.write(clean_data)"
      ],
      "metadata": {
        "id": "q7jU0Sb76DeZ"
      },
      "execution_count": null,
      "outputs": []
    },
    {
      "cell_type": "code",
      "source": [
        "data[:2000]"
      ],
      "metadata": {
        "id": "-XUMEBj58OoU"
      },
      "execution_count": null,
      "outputs": []
    },
    {
      "cell_type": "code",
      "source": [
        "clean_data[:2000]"
      ],
      "metadata": {
        "id": "PhJuJjjO8Uc5"
      },
      "execution_count": null,
      "outputs": []
    }
  ]
}