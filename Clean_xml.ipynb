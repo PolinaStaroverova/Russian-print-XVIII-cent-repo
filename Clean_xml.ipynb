{
  "cells": [
    {
      "cell_type": "code",
      "execution_count": null,
      "metadata": {
        "id": "KUhje9IRAfBa"
      },
      "outputs": [],
      "source": [
        "import re\n",
        "\n",
        "with open(your_file, 'r') as open_file:\n",
        "    data = open_file.read()\n",
        "print(data)"
      ]
    },
    {
      "cell_type": "code",
      "source": [
        "data_clean = re.sub(r'&lt; */? *\\w+ */?\\ *&gt;', '', data)"
      ],
      "metadata": {
        "id": "3HnafL2Qr5_z"
      },
      "execution_count": null,
      "outputs": []
    },
    {
      "cell_type": "code",
      "execution_count": null,
      "metadata": {
        "id": "65Oos8apDqH7"
      },
      "outputs": [],
      "source": [
        "data_clean2 = re.sub(r'\\<(\\?|\\/?)\\w+\\s*[^>]*?\\/?>', '', data_clean)"
      ]
    },
    {
      "cell_type": "code",
      "execution_count": null,
      "metadata": {
        "id": "UUhm0BExZ4di"
      },
      "outputs": [],
      "source": [
        "data_clean3 = re.sub(r'[\\n{*}]', '', data_clean2)"
      ]
    },
    {
      "cell_type": "code",
      "source": [
        "data_clean4 = re.sub(r'[/{*}]', '', data_clean3)"
      ],
      "metadata": {
        "id": "YcTsrpFWsU75"
      },
      "execution_count": null,
      "outputs": []
    },
    {
      "cell_type": "code",
      "source": [
        "data_clean4"
      ],
      "metadata": {
        "id": "oOG6WF-5rXaA"
      },
      "execution_count": null,
      "outputs": []
    },
    {
      "cell_type": "code",
      "source": [
        "fp = open(your_file, 'w')\n",
        "fp.write(data_clean4)"
      ],
      "metadata": {
        "id": "nK_GhsdZ10HZ"
      },
      "execution_count": null,
      "outputs": []
    }
  ],
  "metadata": {
    "colab": {
      "collapsed_sections": [],
      "name": "Идеальная чистка",
      "provenance": []
    },
    "kernelspec": {
      "display_name": "Python 3",
      "name": "python3"
    },
    "language_info": {
      "name": "python"
    }
  },
  "nbformat": 4,
  "nbformat_minor": 0
}